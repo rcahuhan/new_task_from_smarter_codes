{
 "cells": [
  {
   "cell_type": "code",
   "execution_count": 8,
   "metadata": {},
   "outputs": [],
   "source": [
    "def date(sdat):\n",
    "    sdat=sdat.split(\"-\")\n",
    "    ans=\"\"\n",
    "    print(sdat)\n",
    "    ans+=sdat[0]+\" \"\n",
    "    if int(sdat[1])==1:\n",
    "        ans+=\"Jan\"\n",
    "    if sdat[1]==2:\n",
    "        ans+=\"Feb\"\n",
    "    if int(sdat[1])==3:\n",
    "        ans+=\"Mar\"\n",
    "    if sdat[1]==4:\n",
    "        ans+=\"Apr\"\n",
    "    if sdat[1]==5:\n",
    "        ans+=\"May\"\n",
    "    if sdat[1]==6:\n",
    "        ans+=\"Jun\"\n",
    "    if sdat[1]==7:\n",
    "        ans+=\"Jul\"\n",
    "    if sdat[1]==8:\n",
    "        ans+=\"Aug\"\n",
    "    ans+=\" \"+sdat[2]\n",
    "    return ans\n",
    "\n",
    "    \n",
    "    "
   ]
  },
  {
   "cell_type": "code",
   "execution_count": 11,
   "metadata": {},
   "outputs": [
    {
     "name": "stdout",
     "output_type": "stream",
     "text": [
      "press 1 for dd-mm-yyyypress 2 for dd-mon-yyyy1\n"
     ]
    }
   ],
   "source": [
    "print(\"press 1 for dd-mm-yyyy\",end=\"\")\n",
    "print(\"press 2 for dd-mon-yyyy\",end=\"\")\n",
    "n=int(input())\n",
    "if n==1:\n",
    "    print(input())"
   ]
  },
  {
   "cell_type": "code",
   "execution_count": null,
   "metadata": {},
   "outputs": [],
   "source": []
  }
 ],
 "metadata": {
  "kernelspec": {
   "display_name": "Python 3",
   "language": "python",
   "name": "python3"
  },
  "language_info": {
   "codemirror_mode": {
    "name": "ipython",
    "version": 3
   },
   "file_extension": ".py",
   "mimetype": "text/x-python",
   "name": "python",
   "nbconvert_exporter": "python",
   "pygments_lexer": "ipython3",
   "version": "3.7.6"
  }
 },
 "nbformat": 4,
 "nbformat_minor": 4
}
